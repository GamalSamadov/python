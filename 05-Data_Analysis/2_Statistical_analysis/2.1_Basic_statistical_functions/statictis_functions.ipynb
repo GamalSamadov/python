{
 "cells": [
  {
   "cell_type": "code",
   "execution_count": 3,
   "metadata": {},
   "outputs": [
    {
     "name": "stdout",
     "output_type": "stream",
     "text": [
      "<class 'pandas.core.frame.DataFrame'>\n",
      "RangeIndex: 12 entries, 0 to 11\n",
      "Data columns (total 1 columns):\n",
      " #   Column  Non-Null Count  Dtype\n",
      "---  ------  --------------  -----\n",
      " 0   Mark    12 non-null     int64\n",
      "dtypes: int64(1)\n",
      "memory usage: 228.0 bytes\n",
      "None\n"
     ]
    }
   ],
   "source": [
    "import pandas as pd\n",
    "\n",
    "df = pd.read_csv('marks.csv')\n",
    "\n",
    "# df.head()\n",
    "print(df.info())"
   ]
  },
  {
   "cell_type": "code",
   "execution_count": 6,
   "metadata": {},
   "outputs": [
    {
     "name": "stdout",
     "output_type": "stream",
     "text": [
      "Count = 12\n"
     ]
    }
   ],
   "source": [
    "x = df['Mark'].count()\n",
    "print('Count =', x)"
   ]
  },
  {
   "cell_type": "code",
   "execution_count": 7,
   "metadata": {},
   "outputs": [
    {
     "name": "stdout",
     "output_type": "stream",
     "text": [
      "Mean = 63.0\n"
     ]
    }
   ],
   "source": [
    "x = df['Mark'].mean() # o'rtacha qiymat\n",
    "print('Mean =', x)"
   ]
  },
  {
   "cell_type": "code",
   "execution_count": 8,
   "metadata": {},
   "outputs": [
    {
     "name": "stdout",
     "output_type": "stream",
     "text": [
      "Min = 40\n"
     ]
    }
   ],
   "source": [
    "x = df['Mark'].min() # o'rtacha qiymat\n",
    "print('Min =', x)"
   ]
  },
  {
   "cell_type": "code",
   "execution_count": 9,
   "metadata": {},
   "outputs": [
    {
     "name": "stdout",
     "output_type": "stream",
     "text": [
      "Max = 92\n"
     ]
    }
   ],
   "source": [
    "x = df['Mark'].max() # o'rtacha qiymat\n",
    "print('Max =', x)"
   ]
  },
  {
   "cell_type": "code",
   "execution_count": 10,
   "metadata": {},
   "outputs": [
    {
     "name": "stdout",
     "output_type": "stream",
     "text": [
      "Median = 62.5\n"
     ]
    }
   ],
   "source": [
    "# Median 1\n",
    "x = df['Mark'].median() # o'rtadagisi\n",
    "print('Median =', x)\n",
    "\n",
    "\n",
    "# Median bu:\n",
    "# Berilgan sonlarni kamdan ko'pga qilib tartib qilinsa mana shu tartibdan kelib chiqqan sonlarning soni ya'ni nechtaligi agar to'g son bo'lsa, Median ana o'sha tartibdagi sonlarning o'rtasidagi bo'ladi. agar o'sha tartibdagi sonlarning soni, ya'ni nechtaligi juft son bo'ladigan bo'lsa u holda Median ana shu tartibli sonlarning o'trasidagi ikta sonni bir biriga qo'shib, shu ikki sonning soniga ya'ni nechtaligiga, aniqroq qilib aytganda 2 ga bo'lingani bo'ladi. \n",
    "\n",
    "# 20  27  30  50  (53)  55  65  70  80  ==> bu sonlarning soni tog' bo'lgani uchun Mediani 53 bo'ladi, chunki o'rtadagisi shu\n",
    "\n",
    "# 20  27  30  50  (50) (53)  55  65  70  80 ==> bu sonlarning soni juft bo'lgani uchun Mediani o'rtadagi ikki sonni bir biriga qo'shib shu ikki sonning o'zining soniga ya'ni 2 ga bo'lingani bo'ladi, ya'ni (50 + 53) / 2 = 51.5. Demak mediani 51.5 bo'larkan"
   ]
  },
  {
   "cell_type": "code",
   "execution_count": 13,
   "metadata": {},
   "outputs": [
    {
     "name": "stdout",
     "output_type": "stream",
     "text": [
      "%50 = 62.5\n"
     ]
    }
   ],
   "source": [
    "# Median 2\n",
    "x = df['Mark'].quantile(0.5)\n",
    "print('%50 =', x)\n",
    "\n",
    "# Quantile nima qiladi va qanday ishlaydi?\n",
    "# 1) Quantile 0 va 1 oralig'idagi son o'ziga qabul qiladi\n",
    "# 2) Bu kiritilgan son tablitsadagi sonlarni kamdan ko'pga qilib sanalgandagi kismini ko'rsatadi\n",
    "# 3) Agar 0.5 deb kiritilsa tablitsaning kamdan ko'pga qilib qaralganda o'rtadagisi ya'ni 50% dagisi, boshqa so'z bilan aytganda Meanini ko'rsatadi\n",
    "# 4) Agarda 0.25 deb yozilsa tablitsaning kamdan ko'pga qilib qaralganda birinchi 25% da turgan sonni, ya'ni birinchi to'rtdan birini qaytaradi\n",
    "# 5) agarda 0.75 deb yozilsa tablitsaning to'rtdan uchida turgan sonni ya'ni 75% da turgan sonni qaytaradi.\n",
    "\n",
    "# Keyin tushunmay qolmasam bo'lgani\n",
    "\n"
   ]
  },
  {
   "cell_type": "code",
   "execution_count": 15,
   "metadata": {},
   "outputs": [
    {
     "name": "stdout",
     "output_type": "stream",
     "text": [
      "%75 = 75.0\n"
     ]
    }
   ],
   "source": [
    "x = df['Mark'].quantile(0.75)\n",
    "print('%75 =', x)"
   ]
  },
  {
   "cell_type": "code",
   "execution_count": 14,
   "metadata": {},
   "outputs": [
    {
     "name": "stdout",
     "output_type": "stream",
     "text": [
      "%25 = 50.0\n"
     ]
    }
   ],
   "source": [
    "x = df['Mark'].quantile(0.25)\n",
    "print('%25 =', x)"
   ]
  },
  {
   "cell_type": "code",
   "execution_count": null,
   "metadata": {},
   "outputs": [],
   "source": []
  }
 ],
 "metadata": {
  "kernelspec": {
   "display_name": "venv",
   "language": "python",
   "name": "python3"
  },
  "language_info": {
   "codemirror_mode": {
    "name": "ipython",
    "version": 3
   },
   "file_extension": ".py",
   "mimetype": "text/x-python",
   "name": "python",
   "nbconvert_exporter": "python",
   "pygments_lexer": "ipython3",
   "version": "3.11.2"
  },
  "orig_nbformat": 4
 },
 "nbformat": 4,
 "nbformat_minor": 2
}
