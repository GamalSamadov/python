{
 "cells": [
  {
   "cell_type": "code",
   "execution_count": 32,
   "id": "ebbeb139",
   "metadata": {},
   "outputs": [
    {
     "name": "stdout",
     "output_type": "stream",
     "text": [
      "      Id SepalLengthCm SepalWidthCm PetalLengthCm PetalWidthCm         Species\n",
      "0      1         5.Jan        3.May         1.Apr          0.2     Iris-setosa\n",
      "1      2           NaN          abc         1.Apr          0.2     Iris-setosa\n",
      "2      3           NaN        3.Feb           def         1000             NaN\n",
      "3      4           NaN        3.Jan         1.May          200     Iris-setosa\n",
      "4      5             5        3.Jun         1.Apr          0.2     Iris-setosa\n",
      "..   ...           ...          ...           ...          ...             ...\n",
      "145  146         6.Jul            3         5.Feb        2.Mar  Iris-virginica\n",
      "146  147         6.Mar        2.May             5        1.Sep  Iris-virginica\n",
      "147  148         6.May            3         5.Feb            2  Iris-virginica\n",
      "148  149         6.Feb        3.Apr         5.Apr        2.Mar  Iris-virginica\n",
      "149  150         5.Sep            3         5.Jan        1.Aug  Iris-virginica\n",
      "\n",
      "[150 rows x 6 columns]\n"
     ]
    }
   ],
   "source": [
    "import pandas as pd\n",
    "\n",
    "df = pd.read_csv('irisErrors.csv', sep=';')\n",
    "\n",
    "print(df)"
   ]
  },
  {
   "cell_type": "code",
   "execution_count": 7,
   "id": "a02cdbff",
   "metadata": {},
   "outputs": [
    {
     "name": "stdout",
     "output_type": "stream",
     "text": [
      "<class 'pandas.core.frame.DataFrame'>\n",
      "RangeIndex: 150 entries, 0 to 149\n",
      "Data columns (total 6 columns):\n",
      " #   Column         Non-Null Count  Dtype \n",
      "---  ------         --------------  ----- \n",
      " 0   Id             150 non-null    int64 \n",
      " 1   SepalLengthCm  147 non-null    object\n",
      " 2   SepalWidthCm   150 non-null    object\n",
      " 3   PetalLengthCm  150 non-null    object\n",
      " 4   PetalWidthCm   150 non-null    object\n",
      " 5   Species        148 non-null    object\n",
      "dtypes: int64(1), object(5)\n",
      "memory usage: 7.2+ KB\n",
      "None\n"
     ]
    }
   ],
   "source": [
    "print(df.info())"
   ]
  },
  {
   "cell_type": "code",
   "execution_count": 33,
   "id": "cffdd797",
   "metadata": {},
   "outputs": [
    {
     "name": "stdout",
     "output_type": "stream",
     "text": [
      "   Id  SepalLengthCm  SepalWidthCm  PetalLengthCm  PetalWidthCm      Species\n",
      "0   1            NaN           NaN            NaN           0.2  Iris-setosa\n",
      "1   2            NaN           NaN            NaN           0.2  Iris-setosa\n",
      "2   3            NaN           NaN            NaN        1000.0          NaN\n",
      "3   4            NaN           NaN            NaN         200.0  Iris-setosa\n",
      "4   5            5.0           NaN            NaN           0.2  Iris-setosa\n",
      "<class 'pandas.core.frame.DataFrame'>\n",
      "RangeIndex: 150 entries, 0 to 149\n",
      "Data columns (total 6 columns):\n",
      " #   Column         Non-Null Count  Dtype  \n",
      "---  ------         --------------  -----  \n",
      " 0   Id             150 non-null    int64  \n",
      " 1   SepalLengthCm  17 non-null     float64\n",
      " 2   SepalWidthCm   27 non-null     float64\n",
      " 3   PetalLengthCm  13 non-null     float64\n",
      " 4   PetalWidthCm   63 non-null     float64\n",
      " 5   Species        148 non-null    object \n",
      "dtypes: float64(4), int64(1), object(1)\n",
      "memory usage: 7.2+ KB\n",
      "None\n"
     ]
    }
   ],
   "source": [
    "for col in df[['SepalLengthCm', 'SepalWidthCm', 'PetalLengthCm', 'PetalWidthCm']].columns:\n",
    "    df[col] = pd.to_numeric(df[col], errors='coerce')\n",
    "\n",
    "print(df.head())\n",
    "print(df.info())"
   ]
  },
  {
   "cell_type": "code",
   "execution_count": 35,
   "id": "ba30c737",
   "metadata": {},
   "outputs": [
    {
     "name": "stdout",
     "output_type": "stream",
     "text": [
      "   Id  SepalLengthCm  SepalWidthCm  PetalLengthCm  PetalWidthCm      Species\n",
      "0   1            NaN           NaN            NaN           0.2  Iris-setosa\n",
      "1   2            NaN           NaN            NaN           0.2  Iris-setosa\n",
      "2   3            NaN           NaN            NaN        1000.0          NaN\n",
      "3   4            NaN           NaN            NaN         200.0  Iris-setosa\n",
      "4   5            5.0           NaN            NaN           0.2  Iris-setosa\n"
     ]
    }
   ],
   "source": [
    "# df = df.dropna(subset=['Species'])\n",
    "# print(df.head())"
   ]
  },
  {
   "cell_type": "code",
   "execution_count": 36,
   "id": "6996f6be",
   "metadata": {},
   "outputs": [
    {
     "name": "stdout",
     "output_type": "stream",
     "text": [
      "   Id  SepalLengthCm  SepalWidthCm  PetalLengthCm  PetalWidthCm      Species\n",
      "0   1            NaN           NaN            NaN           0.2  Iris-setosa\n",
      "1   2            NaN           NaN            NaN           0.2  Iris-setosa\n",
      "2   3            NaN           NaN            NaN        1000.0      Unknown\n",
      "3   4            NaN           NaN            NaN         200.0  Iris-setosa\n",
      "4   5            5.0           NaN            NaN           0.2  Iris-setosa\n"
     ]
    }
   ],
   "source": [
    "df['Species'].fillna(value= 'Unknown', inplace=True)\n",
    "print(df.head())"
   ]
  },
  {
   "cell_type": "code",
   "execution_count": 37,
   "id": "222f9009",
   "metadata": {},
   "outputs": [
    {
     "name": "stdout",
     "output_type": "stream",
     "text": [
      "   Id  SepalLengthCm  SepalWidthCm  PetalLengthCm  PetalWidthCm      Species\n",
      "0   1       5.470588           3.0       4.307692           0.2  Iris-setosa\n",
      "1   2       5.470588           3.0       4.307692           0.2  Iris-setosa\n",
      "2   3       5.470588           3.0       4.307692        1000.0      Unknown\n",
      "3   4       5.470588           3.0       4.307692         200.0  Iris-setosa\n",
      "4   5       5.000000           3.0       4.307692           0.2  Iris-setosa\n"
     ]
    }
   ],
   "source": [
    "for col in df[['SepalLengthCm', 'SepalWidthCm', 'PetalLengthCm', 'PetalWidthCm']].columns:\n",
    "    df[col].fillna(value= df[col].mean(), inplace=True)\n",
    "print(df.head())"
   ]
  },
  {
   "cell_type": "code",
   "execution_count": 38,
   "id": "14908b6f",
   "metadata": {},
   "outputs": [
    {
     "name": "stdout",
     "output_type": "stream",
     "text": [
      "   Id  SepalLengthCm  SepalWidthCm  PetalLengthCm  PetalWidthCm      Species\n",
      "0   1       5.470588           3.0       4.307692           0.2  Iris-setosa\n",
      "1   2       5.470588           3.0       4.307692           0.2  Iris-setosa\n",
      "2   3       5.470588           3.0       4.307692          10.0      Unknown\n",
      "3   4       5.470588           3.0       4.307692          10.0  Iris-setosa\n",
      "4   5       5.000000           3.0       4.307692           0.2  Iris-setosa\n"
     ]
    }
   ],
   "source": [
    "df['PetalWidthCm'] = df['PetalWidthCm'].where(df['PetalWidthCm'] < 10, 10)\n",
    "\n",
    "print(df.head())\n"
   ]
  }
 ],
 "metadata": {
  "kernelspec": {
   "display_name": "Python 3 (ipykernel)",
   "language": "python",
   "name": "python3"
  },
  "language_info": {
   "codemirror_mode": {
    "name": "ipython",
    "version": 3
   },
   "file_extension": ".py",
   "mimetype": "text/x-python",
   "name": "python",
   "nbconvert_exporter": "python",
   "pygments_lexer": "ipython3",
   "version": "3.11.2"
  },
  "varInspector": {
   "cols": {
    "lenName": 16,
    "lenType": 16,
    "lenVar": 40
   },
   "kernels_config": {
    "python": {
     "delete_cmd_postfix": "",
     "delete_cmd_prefix": "del ",
     "library": "var_list.py",
     "varRefreshCmd": "print(var_dic_list())"
    },
    "r": {
     "delete_cmd_postfix": ") ",
     "delete_cmd_prefix": "rm(",
     "library": "var_list.r",
     "varRefreshCmd": "cat(var_dic_list()) "
    }
   },
   "types_to_exclude": [
    "module",
    "function",
    "builtin_function_or_method",
    "instance",
    "_Feature"
   ],
   "window_display": false
  }
 },
 "nbformat": 4,
 "nbformat_minor": 5
}
